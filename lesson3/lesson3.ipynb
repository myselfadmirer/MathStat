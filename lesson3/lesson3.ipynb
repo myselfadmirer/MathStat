{
 "cells": [
  {
   "cell_type": "markdown",
   "metadata": {},
   "source": [
    "## 1. Даны значения зарплат из выборки выпускников: 100, 80, 75, 77, 89, 33, 45, 25, 65, 17, 30, 24, 57, 55, 70, 75, 65, 84, 90, 150. Посчитать (желательно без использования статистических методов наподобие std, var, mean) среднее арифметическое, среднее квадратичное отклонение, смещенную и несмещенную оценки дисперсий для данной выборки."
   ]
  },
  {
   "cell_type": "code",
   "execution_count": 1,
   "metadata": {},
   "outputs": [],
   "source": [
    "import numpy as np\n",
    "salary = np.array([100, 80, 75, 77, 89, 33, 45, 25, 65, 17, 30, 24, 57, 55, 70, 75, 65, 84, 90, 150])"
   ]
  },
  {
   "cell_type": "code",
   "execution_count": 2,
   "metadata": {},
   "outputs": [
    {
     "data": {
      "text/plain": [
       "65.3"
      ]
     },
     "execution_count": 2,
     "metadata": {},
     "output_type": "execute_result"
    }
   ],
   "source": [
    "# Среднее арифметическое\n",
    "x_mean = np.sum(salary)/len(salary)\n",
    "x_mean"
   ]
  },
  {
   "cell_type": "code",
   "execution_count": 3,
   "metadata": {},
   "outputs": [
    {
     "data": {
      "text/plain": [
       "30.823854398825596"
      ]
     },
     "execution_count": 3,
     "metadata": {},
     "output_type": "execute_result"
    }
   ],
   "source": [
    "# среднее квадратичное отклонение\n",
    "sigma = np.sqrt(np.sum([(salary[i]-x_mean)**2 for i in range(0, len(salary))])/len(salary))\n",
    "sigma"
   ]
  },
  {
   "cell_type": "code",
   "execution_count": 4,
   "metadata": {},
   "outputs": [
    {
     "data": {
      "text/plain": [
       "950.11"
      ]
     },
     "execution_count": 4,
     "metadata": {},
     "output_type": "execute_result"
    }
   ],
   "source": [
    "# Смещенная оценка дисперсии\n",
    "sigma_sm = np.sum([(salary[i]-x_mean)**2 for i in range(0, len(salary))])/len(salary)\n",
    "sigma_sm"
   ]
  },
  {
   "cell_type": "code",
   "execution_count": 5,
   "metadata": {},
   "outputs": [
    {
     "data": {
      "text/plain": [
       "1000.1157894736842"
      ]
     },
     "execution_count": 5,
     "metadata": {},
     "output_type": "execute_result"
    }
   ],
   "source": [
    "# Несмещенная оценка дисперсии\n",
    "sigma_nesm = np.sum([(salary[i]-x_mean)**2 for i in range(0, len(salary))])/(len(salary) - 1)\n",
    "sigma_nesm"
   ]
  },
  {
   "cell_type": "markdown",
   "metadata": {},
   "source": [
    "## 2. В первом ящике находится 8 мячей, из которых 5 - белые. Во втором ящике - 12 мячей, из которых 5 белых. Из первого ящика вытаскивают случайным образом два мяча, из второго - 4. Какова вероятность того, что 3 мяча белые?"
   ]
  },
  {
   "cell_type": "markdown",
   "metadata": {},
   "source": [
    "### $P=\\frac{C^0_5\\cdot C^2_3}{C^2_{8}}\\cdot \\frac{C^3_5\\cdot C^1_7}{C^4_{12}}+\\frac{C^1_5\\cdot C^1_3}{C^2_{8}}\\cdot \\frac{C^2_5\\cdot C^2_7}{C^4_{12}}+\\frac{C^2_5\\cdot C^0_3}{C^2_{8}}\\cdot \\frac{C^1_5\\cdot C^3_7}{C^4_{12}}=\\frac{1\\cdot 3}{28}\\cdot \\frac{10\\cdot 7}{495}+\\frac{5\\cdot 3}{28}\\cdot \\frac{10\\cdot 21}{495}+\\frac{10\\cdot 1}{28}\\cdot \\frac{5\\cdot 35}{495}=0,3687$"
   ]
  },
  {
   "cell_type": "markdown",
   "metadata": {},
   "source": [
    "## 3. На соревновании по биатлону один из трех спортсменов стреляет и попадает в мишень. Вероятность попадания для первого спортсмена равна 0.9, для второго — 0.8, для третьего — 0.6. Найти вероятность того, что выстрел произведен: "
   ]
  },
  {
   "cell_type": "markdown",
   "metadata": {},
   "source": [
    "### a) первым спортсменом \n",
    "### Воспользуемся формулой Байеса\n",
    "### $P=\\frac{P(B)\\cdot P(A|B)}{P(A)}$\n",
    "### $P(B_1)=P(B_2)=P(B_3)=\\frac1{3}$\n",
    "### $P(A)=\\frac1{3}\\cdot0,9+\\frac1{3}\\cdot0,8+\\frac1{3}\\cdot0,6=0,7667$\n",
    "### $P=\\frac{\\frac1{3}\\cdot0,9}{0,7667}=0,3913$"
   ]
  },
  {
   "cell_type": "markdown",
   "metadata": {},
   "source": [
    "### б) вторым спортсменом \n",
    "### $P=\\frac{\\frac1{3}\\cdot0,8}{0,7667}=0,3478$"
   ]
  },
  {
   "cell_type": "markdown",
   "metadata": {},
   "source": [
    "### в) третьим спортсменом.\n",
    "### $P=\\frac{\\frac1{3}\\cdot0,6}{0,7667}=0,2609$"
   ]
  },
  {
   "cell_type": "markdown",
   "metadata": {},
   "source": [
    "## 4. В университет на факультеты A и B поступило равное количество студентов, а на факультет C студентов поступило столько же, сколько на A и B вместе. Вероятность того, что студент факультета A сдаст первую сессию, равна 0.8. Для студента факультета B эта вероятность равна 0.7, а для студента факультета C - 0.9. Студент сдал первую сессию. Какова вероятность, что он учится: "
   ]
  },
  {
   "cell_type": "markdown",
   "metadata": {},
   "source": [
    "### a). на факультете A\n",
    "### Воспользуемся формулой Байеса\n",
    "### $P=\\frac{P(B)\\cdot P(A|B)}{P(A)}$\n",
    "### $P(B_A)=P(B_B)=0,25$\n",
    "### $P(B_C)=0,5$\n",
    "### $P(A)=0,25\\cdot0,8+0,25\\cdot0,7+0,5\\cdot0,9=0,825$\n",
    "### $P=\\frac{0,25\\cdot0,8}{0,825}=0,2424$"
   ]
  },
  {
   "cell_type": "markdown",
   "metadata": {},
   "source": [
    "### б). на факультете B \n",
    "### $P=\\frac{0,25\\cdot0,7}{0,825}=0,2121$"
   ]
  },
  {
   "cell_type": "markdown",
   "metadata": {},
   "source": [
    "### в). на факультете C\n",
    "### $P=\\frac{0,5\\cdot0,9}{0,825}=0,5455$"
   ]
  },
  {
   "cell_type": "markdown",
   "metadata": {},
   "source": [
    "## 5. Устройство состоит из трех деталей. Для первой детали вероятность выйти из строя в первый месяц равна 0.1, для второй - 0.2, для третьей - 0.25. Какова вероятность того, что в первый месяц выйдут из строя: "
   ]
  },
  {
   "cell_type": "markdown",
   "metadata": {},
   "source": [
    "### а). все детали \n",
    "### $P=p_1\\cdot p_2\\cdot p_3=0,1\\cdot0,2\\cdot0,25=0,005$"
   ]
  },
  {
   "cell_type": "markdown",
   "metadata": {},
   "source": [
    "### б). только две детали \n",
    "### $P=p_1\\cdot p_2 \\cdot q_3 + p_1\\cdot q_2 \\cdot p_3+ q_1 \\cdot p_2 \\cdot p_3=0,1\\cdot0,2\\cdot0,75+0,1\\cdot0,8\\cdot0,25+0,9\\cdot0,2\\cdot0,25=0,08$"
   ]
  },
  {
   "cell_type": "markdown",
   "metadata": {},
   "source": [
    "### в). хотя бы одна деталь \n",
    "### $P=1-q_1\\cdot q_2\\cdot q_3=1-0,9\\cdot0,8\\cdot0,75=0,46$"
   ]
  },
  {
   "cell_type": "markdown",
   "metadata": {},
   "source": [
    "### г). от одной до двух деталей\n",
    "### $P=p_1\\cdot q_2 \\cdot q_3 + q_1\\cdot p_2 \\cdot q_3+ q_1 \\cdot q_2 \\cdot p_3 + p_1\\cdot p_2 \\cdot q_3 + p_1\\cdot q_2 \\cdot p_3+ q_1 \\cdot p_2 \\cdot p_3=0,1\\cdot0,8\\cdot0,75+0,9\\cdot0,2\\cdot0,75+0,9\\cdot0,8\\cdot0,25+0,1\\cdot0,2\\cdot0,75+0,1\\cdot0,8\\cdot0,25+0,9\\cdot0,2\\cdot0,25=0,455$"
   ]
  }
 ],
 "metadata": {
  "kernelspec": {
   "display_name": "Python 3",
   "language": "python",
   "name": "python3"
  },
  "language_info": {
   "codemirror_mode": {
    "name": "ipython",
    "version": 3
   },
   "file_extension": ".py",
   "mimetype": "text/x-python",
   "name": "python",
   "nbconvert_exporter": "python",
   "pygments_lexer": "ipython3",
   "version": "3.8.5"
  }
 },
 "nbformat": 4,
 "nbformat_minor": 4
}
