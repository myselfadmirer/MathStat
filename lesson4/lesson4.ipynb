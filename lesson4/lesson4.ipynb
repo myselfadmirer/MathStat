{
 "cells": [
  {
   "cell_type": "code",
   "execution_count": 1,
   "metadata": {},
   "outputs": [],
   "source": [
    "import numpy as np"
   ]
  },
  {
   "cell_type": "markdown",
   "metadata": {},
   "source": [
    "## 1. Случайная непрерывная величина A имеет равномерное распределение на промежутке (200, 800]. Найдите ее среднее значение и дисперсию."
   ]
  },
  {
   "cell_type": "code",
   "execution_count": 3,
   "metadata": {
    "collapsed": true,
    "jupyter": {
     "outputs_hidden": true
    }
   },
   "outputs": [
    {
     "name": "stdout",
     "output_type": "stream",
     "text": [
      "Математическое ожидание: 500.0\n",
      "Дисперсия: 30000.0\n"
     ]
    }
   ],
   "source": [
    "a = 200\n",
    "b = 800\n",
    "Mx = (a + b) / 2\n",
    "Dx = ((b - a) ** 2) / 12\n",
    "print(f'Математическое ожидание: {Mx}\\nДисперсия: {Dx}')"
   ]
  },
  {
   "cell_type": "markdown",
   "metadata": {},
   "source": [
    "## 2. О случайной непрерывной равномерно распределенной величине B известно, что ее дисперсия равна 0.2. Можно ли найти правую границу величины B и ее среднее значение зная, что левая граница равна 0.5? Если да, найдите ее."
   ]
  },
  {
   "cell_type": "markdown",
   "metadata": {},
   "source": [
    "### $D(X)=\\frac{(b-a)^2}{12}$ => $b = \\sqrt{D(X)\\cdot 12}+a$"
   ]
  },
  {
   "cell_type": "code",
   "execution_count": 5,
   "metadata": {},
   "outputs": [
    {
     "name": "stdout",
     "output_type": "stream",
     "text": [
      "b = 2.049193338482967\n",
      "M(x) = 1.2745966692414834\n"
     ]
    }
   ],
   "source": [
    "Dx = 0.2\n",
    "a = 0.5\n",
    "b = np.sqrt(Dx * 12) + a\n",
    "print(f'b = {b}')\n",
    "Mx = (a + b) / 2\n",
    "print(f'M(X) = {Mx}')"
   ]
  },
  {
   "cell_type": "markdown",
   "metadata": {},
   "source": [
    "## 3. Непрерывная случайная величина X распределена нормально и задана плотностью распределения\n",
    "### $f(x) = \\frac{1}{4\\cdot\\sqrt{2\\pi}} \\cdot e^{\\frac{-(x+2)^2}{32}}$.\n",
    "### Найдите:"
   ]
  },
  {
   "cell_type": "markdown",
   "metadata": {},
   "source": [
    "### а). M(X)\n",
    "### $M(X) = a = -2$\n",
    "### б). D(X)\n",
    "### $D(X) = \\sigma^2 = 16$\n",
    "### в). std(X) (среднее квадратичное отклонение)\n",
    "### $std(X)=\\sigma=4$"
   ]
  },
  {
   "cell_type": "markdown",
   "metadata": {},
   "source": [
    "## 4. Рост взрослого населения города X имеет нормальное распределение. Причем, средний рост равен 174 см, а среднее квадратичное отклонение равно 8 см. Какова вероятность того, что случайным образом выбранный взрослый человек имеет рост:\n",
    "    а). больше 182 см\n",
    "    б). больше 190 см\n",
    "    в). от 166 см до 190 см\n",
    "    г). от 166 см до 182 см\n",
    "    д). от 158 см до 190 см\n",
    "    е). не выше 150 см или не ниже 190 см\n",
    "    ё). не выше 150 см или не ниже 198 см\n",
    "    ж). ниже 166 см."
   ]
  },
  {
   "cell_type": "markdown",
   "metadata": {},
   "source": [
    "### $M(X)=174$\n",
    "### $\\sigma=8$\n",
    "### $D(X)=64$\n",
    "### $F(\\alpha<x<\\beta)=\\Phi(\\frac{\\beta-M(X)}{\\sigma})-\\Phi(\\frac{\\alpha-M(X)}{\\sigma})$"
   ]
  },
  {
   "cell_type": "markdown",
   "metadata": {},
   "source": [
    "### а) x>182\n",
    "### $F(182<x<\\infty)=\\Phi(\\frac{\\infty-174}{8})-\\Phi(\\frac{182-174}{8})=0,5-0,3413=0,1587$"
   ]
  },
  {
   "cell_type": "markdown",
   "metadata": {},
   "source": [
    "### б) x>190\n",
    "### $F(190<x<\\infty)=\\Phi(\\frac{\\infty-174}{8})-\\Phi(\\frac{190-174}{8})=0,5-0,4773=0,0227$"
   ]
  },
  {
   "cell_type": "markdown",
   "metadata": {},
   "source": [
    "### в) 166<x<190\n",
    "### $F(166<x<190)=\\Phi(\\frac{190-174}{8})-\\Phi(\\frac{166-174}{8})=0,4773+0,3413=0,8186$"
   ]
  },
  {
   "cell_type": "markdown",
   "metadata": {},
   "source": [
    "### г) 166<x<182\n",
    "### $F(166<x<182)=\\Phi(\\frac{182-174}{8})-\\Phi(\\frac{166-174}{8})=0,3413+0,3413=0,6826$"
   ]
  },
  {
   "cell_type": "markdown",
   "metadata": {},
   "source": [
    "### д) 158<x<190\n",
    "### $F(158<x<190)=\\Phi(\\frac{190-174}{8})-\\Phi(\\frac{158-174}{8})=0,4773+0,4773=0,9546$"
   ]
  },
  {
   "cell_type": "markdown",
   "metadata": {},
   "source": [
    "### е) x<=150 или x>=190\n",
    "### $F(x\\le150|x\\ge190)=\\Phi(\\frac{150-174}{8})-\\Phi(\\frac{-\\infty-174}{8})+\\Phi(\\frac{\\infty-174}{8})-\\Phi(\\frac{190-174}{8})=-0,4987+0,5+0,5-0,4773=0,024$"
   ]
  },
  {
   "cell_type": "markdown",
   "metadata": {},
   "source": [
    "### ё) x<=150 или x>=198\n",
    "### $F(x\\le150|x\\ge198)=\\Phi(\\frac{150-174}{8})-\\Phi(\\frac{-\\infty-174}{8})+\\Phi(\\frac{\\infty-174}{8})-\\Phi(\\frac{198-174}{8})=-0,4987+0,5+0,5-0,4987=0,0026$"
   ]
  },
  {
   "cell_type": "markdown",
   "metadata": {},
   "source": [
    "### ж) x<166\n",
    "### $F(-\\infty<x<166)=\\Phi(\\frac{166-174}{8})-\\Phi(\\frac{-\\infty-174}{8})=-0,3413+0,5=0,1587$"
   ]
  },
  {
   "cell_type": "markdown",
   "metadata": {},
   "source": [
    "## 5. На сколько сигм (средних квадратичных отклонений) отклоняется рост человека, равный 190 см, от математического ожидания роста в популяции, в которой M(X) = 178 см и D(X) = 25 кв.см?"
   ]
  },
  {
   "cell_type": "code",
   "execution_count": 7,
   "metadata": {},
   "outputs": [
    {
     "name": "stdout",
     "output_type": "stream",
     "text": [
      "Рост человека, равный 190 см, отклоняется от математического ожидания на 2.4 сигм\n"
     ]
    }
   ],
   "source": [
    "x = 190\n",
    "Mx = 178\n",
    "Dx = 25\n",
    "sigma = np.sqrt(Dx)\n",
    "t = (x - Mx) / sigma\n",
    "print(f'Рост человека, равный 190 см, отклоняется от математического ожидания на {t} сигм')"
   ]
  }
 ],
 "metadata": {
  "kernelspec": {
   "display_name": "Python 3",
   "language": "python",
   "name": "python3"
  },
  "language_info": {
   "codemirror_mode": {
    "name": "ipython",
    "version": 3
   },
   "file_extension": ".py",
   "mimetype": "text/x-python",
   "name": "python",
   "nbconvert_exporter": "python",
   "pygments_lexer": "ipython3",
   "version": "3.8.5"
  }
 },
 "nbformat": 4,
 "nbformat_minor": 4
}
