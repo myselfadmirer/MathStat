{
 "cells": [
  {
   "cell_type": "code",
   "execution_count": 2,
   "metadata": {},
   "outputs": [],
   "source": [
    "import numpy as np"
   ]
  },
  {
   "cell_type": "markdown",
   "metadata": {},
   "source": [
    "## 1. Известно, что генеральная совокупность распределена нормально со средним квадратическим отклонением, равным 16. Найти доверительный интервал для оценки математического ожидания a с надежностью 0.95, если выборочная средняя M = 80, а объем выборки n = 256."
   ]
  },
  {
   "cell_type": "code",
   "execution_count": 3,
   "metadata": {},
   "outputs": [
    {
     "name": "stdout",
     "output_type": "stream",
     "text": [
      "X лежит в интервале (78.04, 81.96)\n"
     ]
    }
   ],
   "source": [
    "sigma = 16\n",
    "M = 80\n",
    "n = 256\n",
    "gamma = 0.95\n",
    "z = 1.96\n",
    "a1 = M - sigma * z / np.sqrt(n)\n",
    "a2 = M + sigma * z / np.sqrt(n)\n",
    "print(f'X лежит в интервале ({a1}, {a2})')"
   ]
  },
  {
   "cell_type": "markdown",
   "metadata": {},
   "source": [
    "## 2. В результате 10 независимых измерений некоторой величины X, выполненных с одинаковой точностью, получены опытные данные: 6.9, 6.1, 6.2, 6.8, 7.5, 6.3, 6.4, 6.9, 6.7, 6.1\n",
    "## Предполагая, что результаты измерений подчинены нормальному закону распределения вероятностей, оценить истинное значение величины X при помощи доверительного интервала, покрывающего это значение с доверительной вероятностью 0,95."
   ]
  },
  {
   "cell_type": "code",
   "execution_count": 8,
   "metadata": {},
   "outputs": [
    {
     "name": "stdout",
     "output_type": "stream",
     "text": [
      "X лежит в интервале (6.3105901775368505, 6.869409822463151)\n"
     ]
    }
   ],
   "source": [
    "X = np.array([6.9, 6.1, 6.2, 6.8, 7.5, 6.3, 6.4, 6.9, 6.7, 6.1])\n",
    "gamma = 0.95\n",
    "z = 1.96\n",
    "M = np.sum(X) / len(X)\n",
    "S = np.sqrt(np.sum([(X[i]-M)**2 for i in range(0, len(X))])/(len(X) - 1))\n",
    "a1 = M - S * z / np.sqrt(len(X))\n",
    "a2 = M + S * z / np.sqrt(len(X))\n",
    "print(f'X лежит в интервале ({a1}, {a2})')"
   ]
  },
  {
   "cell_type": "markdown",
   "metadata": {},
   "source": [
    "## 3. Утверждается, что шарики для подшипников, изготовленные автоматическим станком, имеют средний диаметр 17 мм. Используя односторонний критерий с α=0,05, проверить эту гипотезу, если в выборке из n=100 шариков средний диаметр оказался равным 17.5 мм, а дисперсия известна и равна 4 мм."
   ]
  },
  {
   "cell_type": "markdown",
   "metadata": {},
   "source": [
    "### $H_0:\\ M(X)=17$\n",
    "### $H_1:\\ M(X)>17$"
   ]
  },
  {
   "cell_type": "code",
   "execution_count": 4,
   "metadata": {},
   "outputs": [
    {
     "name": "stdout",
     "output_type": "stream",
     "text": [
      "t-распределение = 0.25\n"
     ]
    }
   ],
   "source": [
    "from scipy.stats import norm\n",
    "\n",
    "M_x = 17\n",
    "alpha = 0.05\n",
    "n = 100\n",
    "M = 17.5\n",
    "D_x = 4\n",
    "S = np.sqrt(D_x)\n",
    "t = (M - M_x) / S\n",
    "print(f't-распределение = {t}')\n",
    "gamma_p = norm.cdf(t)\n",
    "# gamma = 1 - alpha\n",
    "# z = 1.645"
   ]
  },
  {
   "cell_type": "code",
   "execution_count": 5,
   "metadata": {},
   "outputs": [
    {
     "name": "stdout",
     "output_type": "stream",
     "text": [
      "p-value = 0.4012936743170763\n",
      "Принимаем H0\n"
     ]
    }
   ],
   "source": [
    "# norm.ppf(0.95)\n",
    "p_val = 1 - gamma_p\n",
    "print(f'p-value = {p_val}')\n",
    "if p_val > alpha:\n",
    "    print('Принимаем H0')\n",
    "else:\n",
    "    print('Принимаем H1')"
   ]
  },
  {
   "cell_type": "code",
   "execution_count": 6,
   "metadata": {},
   "outputs": [
    {
     "data": {
      "text/plain": [
       "1.6448536269514722"
      ]
     },
     "execution_count": 6,
     "metadata": {},
     "output_type": "execute_result"
    }
   ],
   "source": [
    "norm.ppf(0.95)"
   ]
  },
  {
   "cell_type": "markdown",
   "metadata": {},
   "source": [
    "##  4. Продавец утверждает, что средний вес пачки печенья составляет 200 г. Из партии извлечена выборка из 10 пачек. Вес каждой пачки составляет:202, 203, 199, 197, 195, 201, 200, 204, 194, 190. Известно, что их веса распределены нормально.\n",
    "## Верно ли утверждение продавца, если учитывать, что доверительная вероятность равна 99%?"
   ]
  },
  {
   "cell_type": "markdown",
   "metadata": {},
   "source": [
    "### $H_0:\\ M(X)=200$\n",
    "### $H_1:\\ M(X)\\neq 200$"
   ]
  },
  {
   "cell_type": "code",
   "execution_count": 11,
   "metadata": {},
   "outputs": [
    {
     "name": "stdout",
     "output_type": "stream",
     "text": [
      "t-распределение = -0.3368165348543039\n"
     ]
    }
   ],
   "source": [
    "M_x = 200\n",
    "n = 10\n",
    "X = np.array([202, 203, 199, 197, 195, 201, 200, 204, 194, 190])\n",
    "gamma = 0.99\n",
    "alpha = 1 - gamma\n",
    "M = np.sum(X) / len(X)\n",
    "S = np.sqrt(np.sum([(X[i]-M)**2 for i in range(0, len(X))])/(len(X) - 1))\n",
    "t = (M - M_x) / S\n",
    "print(f't-распределение = {t}')"
   ]
  },
  {
   "cell_type": "markdown",
   "metadata": {},
   "source": [
    "### $t_{kr} = \\pm 3,169$\n",
    "### Значение t лежит между $\\pm t_{kr}$, следовательно, $M(X)=200$"
   ]
  }
 ],
 "metadata": {
  "kernelspec": {
   "display_name": "Python 3",
   "language": "python",
   "name": "python3"
  },
  "language_info": {
   "codemirror_mode": {
    "name": "ipython",
    "version": 3
   },
   "file_extension": ".py",
   "mimetype": "text/x-python",
   "name": "python",
   "nbconvert_exporter": "python",
   "pygments_lexer": "ipython3",
   "version": "3.8.5"
  }
 },
 "nbformat": 4,
 "nbformat_minor": 4
}
